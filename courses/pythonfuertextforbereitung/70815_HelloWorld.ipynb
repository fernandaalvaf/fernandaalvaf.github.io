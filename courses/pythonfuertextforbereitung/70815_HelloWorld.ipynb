{
 "cells": [
  {
   "cell_type": "markdown",
   "source": [
    "# Welcome to Python!"
   ],
   "metadata": {
    "collapsed": false,
    "id": "MuOueFFSmqOk"
   }
  },
  {
   "cell_type": "markdown",
   "source": [
    "This is Jupyter Notebook.\n",
    "A Jupyter Notebook is an **open source** web-based interactive computing platform.\n",
    "It combines:\n",
    "- live code\n",
    "- equations\n",
    "- narrative text (*like this one*)\n",
    "- visualizations\n",
    "It is often used to **create** and **share** computational documents.\n",
    "\n",
    "We will use it to guide you in your first steps in Python.\n",
    "\n",
    "In a Jupyter Notebook you can create cells, that is, individual groups of content. The two types of cell you can create are:\n",
    "**Markdown** and **Code**\n",
    "\n",
    "Here you can find out more about the project: __[Jupyter.org](https://jupyter.org)__\n"
   ],
   "metadata": {
    "collapsed": false,
    "id": "lQc8HWgPmqOl"
   }
  },
  {
   "cell_type": "markdown",
   "source": [
    "### What is Markdown?"
   ],
   "metadata": {
    "collapsed": false,
    "pycharm": {
     "name": "#%% md\n"
    },
    "id": "U3peu7zDmqOn"
   }
  },
  {
   "cell_type": "markdown",
   "source": [
    "**Markdown** is a markup language used to add formatting elements to plaintext.\n",
    "\n",
    "Markup Language? A markup language is simply a system of encoding text by adding a set of symbols to it to control its structure, formatting, display, and/or enrich the content."
   ],
   "metadata": {
    "collapsed": false,
    "id": "FSM-X6sDmqOo"
   }
  },
  {
   "cell_type": "markdown",
   "source": [
    "this is a markdown cell. if you run it you can see that the formatting features will be displayed and the symbols will disappear.\n",
    "*this will be a sentence in italics*\n",
    "**this will be a sentence in bold**\n",
    "### and this will be a subheading"
   ],
   "metadata": {
    "collapsed": false,
    "id": "tCNb4VsRmqOo"
   }
  },
  {
   "cell_type": "markdown",
   "source": [
    "-------------------\n",
    "## Now let's try coding."
   ],
   "metadata": {
    "collapsed": false,
    "id": "gA3VjCnpmqOp"
   }
  },
  {
   "cell_type": "markdown",
   "source": [
    "The code bellow will be your first line of coding in python. Try to run it."
   ],
   "metadata": {
    "collapsed": false,
    "id": "_Iwtsn_wmqOq"
   }
  },
  {
   "cell_type": "code",
   "execution_count": 1,
   "metadata": {
    "collapsed": true,
    "id": "f0HyRVj9mqOq",
    "outputId": "f41d0747-5e26-420c-f66f-02442ec7ddac",
    "colab": {
     "base_uri": "https://localhost:8080/"
    }
   },
   "outputs": [
    {
     "output_type": "stream",
     "name": "stdout",
     "text": [
      "Hello World!\n"
     ]
    }
   ],
   "source": [
    "print('Hello World!')"
   ]
  },
  {
   "cell_type": "markdown",
   "source": [
    "This is traditionally used in programming, particularly in introductory phases. It is a simple program that displays or *prints out* the sentence \"Hello World!\". Your first program is greeting us all. =)"
   ],
   "metadata": {
    "collapsed": false,
    "id": "XU-1sHfrmqOr"
   }
  },
  {
   "cell_type": "markdown",
   "source": [
    "\n",
    "\n",
    "---\n",
    "\n",
    "\n",
    "\n",
    "---\n",
    "\n"
   ],
   "metadata": {
    "id": "zvwX_-l4nPfb"
   }
  },
  {
   "cell_type": "markdown",
   "source": [
    "### Documentation"
   ],
   "metadata": {
    "id": "EOEOBsmApAPS"
   }
  },
  {
   "cell_type": "markdown",
   "source": [
    "Documentation in programming is a material that describes how a software works.\n",
    "Documenting is a very important step in programming *even when you write a code for your own personal use*. \n",
    "Normally, the documentation is written in a readme text file that accompanies the program it refers to.\n",
    "\n",
    "[Here](https://docs.python.org/3/) you can read through python's documentation.\n",
    "\n",
    "You can also access python's documentation directly from your code:"
   ],
   "metadata": {
    "id": "QoGjMjTjpE-B"
   }
  },
  {
   "cell_type": "code",
   "source": [
    "help(print)"
   ],
   "metadata": {
    "colab": {
     "base_uri": "https://localhost:8080/"
    },
    "id": "gqwFp2hNqV9c",
    "outputId": "553e3112-7bc0-4f3f-f442-5b000b92867b"
   },
   "execution_count": 2,
   "outputs": [
    {
     "output_type": "stream",
     "name": "stdout",
     "text": [
      "Help on built-in function print in module builtins:\n",
      "\n",
      "print(...)\n",
      "    print(value, ..., sep=' ', end='\\n', file=sys.stdout, flush=False)\n",
      "    \n",
      "    Prints the values to a stream, or to sys.stdout by default.\n",
      "    Optional keyword arguments:\n",
      "    file:  a file-like object (stream); defaults to the current sys.stdout.\n",
      "    sep:   string inserted between values, default a space.\n",
      "    end:   string appended after the last value, default a newline.\n",
      "    flush: whether to forcibly flush the stream.\n",
      "\n"
     ]
    }
   ]
  },
  {
   "cell_type": "markdown",
   "source": [
    "By using the built-in help() function, you can access the documentation to clarify the use of something.\n",
    "\n",
    "Another way of doing that here in the Notebook is the following:"
   ],
   "metadata": {
    "id": "-ha2GIr5qsdu"
   }
  },
  {
   "cell_type": "code",
   "source": [
    "?print"
   ],
   "metadata": {
    "id": "h71JrzcErJi2"
   },
   "execution_count": 3,
   "outputs": []
  },
  {
   "cell_type": "markdown",
   "source": [
    "\n",
    "\n",
    "---\n",
    "\n",
    "\n",
    "\n",
    "---\n",
    "\n"
   ],
   "metadata": {
    "id": "JVLP_u6s35uC"
   }
  },
  {
   "cell_type": "markdown",
   "source": [
    "## Comments"
   ],
   "metadata": {
    "id": "ltXeW4Zrrf-g"
   }
  },
  {
   "cell_type": "markdown",
   "source": [
    "You can also add comments directly to your code. This helps making your code more readable for yourself and also for other people.\n",
    "Comments are written in two ways:\n",
    "1. Either by adding a hashtag before the comment\n",
    "\n",
    "\n",
    "```\n",
    "# This is a comment\n",
    "print(\"this is not a comment\")\n",
    "```\n",
    "2. Or by adding quotation marks before and after your comment, these can be either single quotation marks (') or double (\").\n",
    "\n",
    "\n",
    "```\n",
    "'This is a comment'\n",
    "```\n",
    "In other words, you can write comments as *string literals* as long as you do not assign them to any variables.\n",
    "You can also write long comments that span through many lines.\n",
    "\n",
    "\n",
    "```\n",
    "'''This is a very,\n",
    "very, very long comment\n",
    "that I wrote to clarify\n",
    "my code. We call it a\n",
    "multi-line comment'''\n",
    "```\n",
    "Print the code below and observe what happens.\n",
    "\n",
    "\n",
    "\n"
   ],
   "metadata": {
    "id": "Dq84plyvrhtw"
   }
  },
  {
   "cell_type": "code",
   "source": [
    "''' My first code is a program that greets the whole\n",
    "world. It uses a print function to output my message. And\n",
    "I use this comment to explain what my code does at the very beginning.'''\n",
    "\n",
    "print('Hello, World!') # prints 'Hello, World!'"
   ],
   "metadata": {
    "colab": {
     "base_uri": "https://localhost:8080/"
    },
    "id": "ZVA8B5X9sxUn",
    "outputId": "fa67aafd-49dc-4386-8042-49bd63dd6e44"
   },
   "execution_count": 4,
   "outputs": [
    {
     "output_type": "stream",
     "name": "stdout",
     "text": [
      "Hello, World!\n"
     ]
    }
   ]
  },
  {
   "cell_type": "markdown",
   "source": [
    "In the code above, the only executed command was print().\n",
    "The code ignored all that was marked as a comment, it is not useful for the machine. It is very useful for the reader of your code, this could be your future self, other researchers or reviewers.\n",
    "\n",
    "We can also use comments to tell the machine to ignore certain lines of code. We can *comment out* certain parts of the code that we do not want to execute at this moment, but want to keep at hand in a specific part of our script.\n",
    "Try editing the code below to obtain different results:"
   ],
   "metadata": {
    "id": "2u4msDPqtSg0"
   }
  },
  {
   "cell_type": "code",
   "source": [
    "#print('Hey, World!')\n",
    "#print('Hey, everyone!')\n",
    "#print('1234')"
   ],
   "metadata": {
    "id": "p1bv6VD0t9rR"
   },
   "execution_count": 9,
   "outputs": []
  },
  {
   "cell_type": "markdown",
   "source": [
    "In the following cell we have three lines of comment:\n",
    "\n",
    "\n",
    "```\n",
    "# Some calculations\n",
    "# 5+16\n",
    "# 16/2\n",
    "```\n",
    "\n",
    "We can also use the # to **comment out** pieces of code that we do not want to be active right now.\n",
    "I can choose to remove these #s to execute the calculations below, try that.\n"
   ],
   "metadata": {
    "id": "TdX_l6w-nrQF"
   }
  },
  {
   "cell_type": "code",
   "source": [
    "# Some calculations\n",
    "#5+16\n",
    "#16/2"
   ],
   "metadata": {
    "id": "S4Y2uoT5ud23"
   },
   "execution_count": 10,
   "outputs": []
  },
  {
   "cell_type": "markdown",
   "source": [
    "\n",
    "\n",
    "---\n",
    "\n",
    "\n",
    "\n",
    "---\n",
    "\n"
   ],
   "metadata": {
    "id": "gruMkbjh33Ui"
   }
  },
  {
   "cell_type": "markdown",
   "source": [
    "## Variables"
   ],
   "metadata": {
    "collapsed": false,
    "id": "g91TruVqmqOs"
   }
  },
  {
   "cell_type": "markdown",
   "source": [
    "A variable in python is a name that we give to an object we want to store. \n",
    "Variables are very useful when we perform different operations on the same object.\n",
    "We can define a variable in the following way:\n",
    "\n",
    "\n",
    "```\n",
    "my_variable = 10\n",
    "```\n",
    "We first define a name for the variable, then use the equal sign (=) to assign a value that comes to the right of the sign.\n",
    "Now, I asked my program to store the value 10 for me under the name 'my_variable'. This value is going to be stored somewhere in the memory of my computer and I can access it anytime by calling the name 'my_variable'.\n",
    "Try running the following lines of code to see what happens.\n"
   ],
   "metadata": {
    "id": "wyidGGGHvOZy"
   }
  },
  {
   "cell_type": "code",
   "source": [
    "my_variable = 10 # saves the value 10 in the variable x"
   ],
   "metadata": {
    "id": "DSSxmpL0wBKl"
   },
   "execution_count": 11,
   "outputs": []
  },
  {
   "cell_type": "code",
   "source": [
    "my_variable"
   ],
   "metadata": {
    "colab": {
     "base_uri": "https://localhost:8080/"
    },
    "id": "QdvUbdSEwDsN",
    "outputId": "3297ace7-3fb3-4c89-f567-0b5a28eddbd5"
   },
   "execution_count": 12,
   "outputs": [
    {
     "output_type": "execute_result",
     "data": {
      "text/plain": [
       "10"
      ]
     },
     "metadata": {},
     "execution_count": 12
    }
   ]
  },
  {
   "cell_type": "markdown",
   "source": [
    "Now try performing some calculations with our variable."
   ],
   "metadata": {
    "id": "JkLjbGOt3QnR"
   }
  },
  {
   "cell_type": "code",
   "execution_count": 13,
   "outputs": [
    {
     "output_type": "execute_result",
     "data": {
      "text/plain": [
       "20"
      ]
     },
     "metadata": {},
     "execution_count": 13
    }
   ],
   "source": [
    "# A couple of operations using our variable\n",
    "\n",
    "my_variable+10\n",
    "#160/my_variable"
   ],
   "metadata": {
    "pycharm": {
     "name": "#%%\n"
    },
    "id": "-r6-PxndmqOu",
    "outputId": "abeea0fd-e042-4d6c-8f00-7221bae202d9",
    "colab": {
     "base_uri": "https://localhost:8080/"
    }
   }
  },
  {
   "cell_type": "markdown",
   "source": [
    "If I forget the name of my variable and type something else, the program will not work. \n",
    "Run the following line:"
   ],
   "metadata": {
    "id": "Cj9uns3owIpG"
   }
  },
  {
   "cell_type": "code",
   "source": [
    "myvariable"
   ],
   "metadata": {
    "colab": {
     "base_uri": "https://localhost:8080/",
     "height": 171
    },
    "id": "QA3H3j8ewTp3",
    "outputId": "1b69bb70-16aa-474e-b406-a4e1b27decc4"
   },
   "execution_count": 14,
   "outputs": [
    {
     "output_type": "error",
     "ename": "NameError",
     "evalue": "ignored",
     "traceback": [
      "\u001B[0;31m---------------------------------------------------------------------------\u001B[0m",
      "\u001B[0;31mNameError\u001B[0m                                 Traceback (most recent call last)",
      "\u001B[0;32m<ipython-input-14-0dc003f02f0b>\u001B[0m in \u001B[0;36m<cell line: 1>\u001B[0;34m()\u001B[0m\n\u001B[0;32m----> 1\u001B[0;31m \u001B[0mmyvariable\u001B[0m\u001B[0;34m\u001B[0m\u001B[0;34m\u001B[0m\u001B[0m\n\u001B[0m",
      "\u001B[0;31mNameError\u001B[0m: name 'myvariable' is not defined"
     ]
    }
   ]
  },
  {
   "cell_type": "markdown",
   "source": [
    "The output is an error. The program cannot call the variable because it was not defined. In other words, I never told it to keep any information under that name, therefore, it cannot give me anything back when I call for it."
   ],
   "metadata": {
    "id": "H3EnHzfNwXrt"
   }
  },
  {
   "cell_type": "markdown",
   "source": [
    "### Variable names"
   ],
   "metadata": {
    "id": "BANPG5W4w51v"
   }
  },
  {
   "cell_type": "markdown",
   "source": [
    "There are rules for naming variables in Python. This is necessary to avoid ambiguity.\n",
    "\n",
    "**Main rules:**\n",
    "- A variable name must start with a letter or the underscore character\n",
    "  >**_myvariable** and **my_variable** are allowed names for variables\n",
    "- A variable name cannot start with a number\n",
    "  > **1variable** is not allowed, but **variable1** is.\n",
    "- A variable name can only contain alpha-numeric characters and underscores (A-z, 0-9, and _ )\n",
    "  > ***my+variable** is not allowed.\n",
    "- Variable names are case-sensitive \n",
    "  > **age**, **Age** and **AGE** are three different variables\n",
    "\n",
    "[Source: W3Schools](https://www.w3schools.com/python/python_variables_names.asp)\n",
    "\n",
    "**Other important rules are:**\n",
    "- Never name your variables upper case I or o, O. For these can be mistaken by 1 or 0 by the reader.\n",
    "- Do not overwrite built-in names\n",
    "\n",
    ">![renamebuiltin.PNG](data:image/png;base64,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)\n",
    "\n",
    "This is what would happen if we replace the built-in name print with our variable. \n",
    "\n",
    "**Good Practices for naming variables:**\n",
    "\n",
    "- Use descriptive names that inform you about the content of the variable\n",
    "  > **variable1**, **variable2** are very vague\n",
    "- Find a good compromise between too long and too short names\n",
    "  >**namesofthepeopleonthedocuments** is too long and **names** does not really inform the reader, but **people_names** could be a good alternative.\n",
    "\n",
    "You can also mix capitalization and the use of underlines to define your variables:\n",
    "Ex: peoplenames, PeopleNames, peopleNames, people_names\n",
    "\n"
   ],
   "metadata": {
    "id": "yHzOcggTxD6w"
   }
  },
  {
   "cell_type": "markdown",
   "source": [
    "We had assigned the value 10 to our variable **my_variable**. If we assign a new value to the same variable, we are replacing the former value.\n",
    "See what happens if you run the following code."
   ],
   "metadata": {
    "id": "MylOEsswoN7f"
   }
  },
  {
   "cell_type": "code",
   "execution_count": 15,
   "outputs": [
    {
     "output_type": "execute_result",
     "data": {
      "text/plain": [
       "19"
      ]
     },
     "metadata": {},
     "execution_count": 15
    }
   ],
   "source": [
    "my_variable=9\n",
    "my_variable+10"
   ],
   "metadata": {
    "pycharm": {
     "name": "#%%\n"
    },
    "id": "n6bWL_NQmqOu",
    "outputId": "3622d760-4240-48ec-8585-706ef91a4b4c",
    "colab": {
     "base_uri": "https://localhost:8080/"
    }
   }
  },
  {
   "cell_type": "markdown",
   "source": [
    "Now, my_variable + 10 is no longer 20, but 19."
   ],
   "metadata": {
    "id": "FPs6aK2Aod7h"
   }
  },
  {
   "cell_type": "markdown",
   "source": [
    "\n",
    "\n",
    "---\n",
    "\n",
    "\n",
    "\n",
    "---\n",
    "\n"
   ],
   "metadata": {
    "id": "hanSYuSD31Jr"
   }
  },
  {
   "cell_type": "markdown",
   "source": [
    "## Python Data Types"
   ],
   "metadata": {
    "collapsed": false,
    "id": "ZpmApmDImqOv"
   }
  },
  {
   "cell_type": "markdown",
   "source": [
    "So far we have been dealing mainly with numbers, but there are other formats of information we can work with in Python. We will now look over the different **data types** that we can work with."
   ],
   "metadata": {
    "id": "92Oskpjh4KzE"
   }
  },
  {
   "cell_type": "markdown",
   "source": [
    "**1) Integer**\n",
    "\n",
    "Integers are whole numbers, such as 7, 59 or 10000000051.\n",
    "\n",
    "**2) Float**\n",
    "\n",
    "Floats are fractions of numbers, such as 7.5 or 0.56.\n",
    "Note that floats are represented with a dot and not a comma.\n",
    "\n",
    "**3) String**\n",
    "\n",
    "Simply put, strings are text data, that is a collection of characters. These characters can be alphanumeric or punctuation. This means that 80 can be a integer or a string - it depends on how we want to interpret it.\n",
    "\n",
    "When we printed 'Hello, World!', we were printing a string. \n",
    "\n",
    "In Python, we represent strings by enclosing our characters within single (') or double (\") quotation marks. Like this:\n",
    "\n",
    "\n",
    "```\n",
    "'Hello, World!' or \"Hello, World!\"\n",
    "\n",
    "```\n",
    "\n",
    "\n",
    "\n",
    "**4) List**\n",
    "\n",
    "Lists are ordered sequences of elements. In Python we represent lists by enclosing elements separated by commas within squared brackets. Like this:\n",
    "\n",
    "\n",
    "```\n",
    "numbers_list = [1,2,3,4,4,5]\n",
    "words_list = ['Vaxxed','Variant','Languishing','Hybrid work','the great resignation']\n",
    "```\n",
    "\n",
    "**5) Tuple**\n",
    "\n",
    "A tuple is a collection of elements separated by commas. In Python, tuples are represented by enclosing elements separated by commas within parenthesis. Like this:\n",
    "\n",
    "\n",
    "```\n",
    "my_tuple = ('databases','digital','humanities')\n",
    "```\n",
    "\n",
    "**6) Range**\n",
    "\n",
    "A range is a sequence of numbers. In Python we define ranges by calling the function range with the following parameters separated by commas: the **start value**, the **stop value** and the **step value**. Like this:\n",
    "\n",
    "\n",
    "```\n",
    "range(start, stop, step)\n",
    "```\n",
    "start: the initial value\n",
    "\n",
    "stop: the final value\n",
    "\n",
    "step: the interval between values, the default value for this is 1. That means that if you do not inform the step value, the program will interpret it as 1.\n",
    "\n",
    "Let's look at an example:\n",
    "\n",
    "```\n",
    "range(0,101,10)\n",
    "```\n",
    "This will create the following sequence: 0 10 20 30 40 50 60 70 80 90 100\n",
    "```\n",
    "range(0,10,)\n",
    "```\n",
    "This will create the following sequence: 0 1 2 3 4 5 6 7 8 9\n",
    "\n",
    "\n",
    "**7) Dictionary**\n",
    "\n",
    "Simply put, a dictionary in Python is a set of key-value pairs. In other words it is an arrangement of coupled data, one element being the key and the other the corresponding value.\n",
    "\n",
    "For example, a dictionary of language abbreviations:\n",
    "```\n",
    "languageAbbr = {'es':'spanish', 'en':'english', 'de':'deutsch', 'pt':'portuguese'}\n",
    "```\n",
    "Or a dictionary of tools:\n",
    "```\n",
    "my_dict = {'python':'python is a programming language',\n",
    "           'Access':'access is a database management system'}\n",
    "```\n",
    "And even the ingredients of a recipe:\n",
    "```\n",
    "bratkartoffeln = {'Kartoffeln':600, 'Zwiebeln':125,'Öl':27}\n",
    "```\n",
    "\n",
    "**8) Boolean values**\n",
    "\n",
    "Boolean values are used to represent the truth of an operation. The possible values are **True** and **False**.\n",
    "\n",
    "```\n",
    "5 > 10\n",
    "False\n",
    "```\n",
    "But\n",
    "```\n",
    "5 < 10\n",
    "True\n",
    "```\n",
    "\n",
    "\n",
    "\n",
    "\n",
    "We will see some of these data types and their properties and operations in more detail below."
   ],
   "metadata": {
    "id": "Ytn7QAh-4nIU"
   }
  },
  {
   "cell_type": "markdown",
   "source": [
    "### **1,2) Integer and Float**\n",
    "\n",
    "Let's look at some operations that you can do with integers and floats in python.\n",
    "If you want to know more, check the documentation [here](https://docs.python.org/3/library/stdtypes.html)"
   ],
   "metadata": {
    "id": "WdyzMFAwlDff"
   }
  },
  {
   "cell_type": "code",
   "source": [
    "4 + 7 # Sum of two integers"
   ],
   "metadata": {
    "colab": {
     "base_uri": "https://localhost:8080/"
    },
    "id": "q-ewgHOkt-1E",
    "outputId": "d5b58b7d-c644-450f-d474-8355ebd715ad"
   },
   "execution_count": null,
   "outputs": [
    {
     "output_type": "execute_result",
     "data": {
      "text/plain": [
       "11"
      ]
     },
     "metadata": {},
     "execution_count": 1
    }
   ]
  },
  {
   "cell_type": "code",
   "source": [
    "4 + 2.5 # Sum of integer and float"
   ],
   "metadata": {
    "colab": {
     "base_uri": "https://localhost:8080/"
    },
    "id": "_vpp_YAIuCnZ",
    "outputId": "e9429268-1752-43e2-f3b7-c9f784cbe010"
   },
   "execution_count": null,
   "outputs": [
    {
     "output_type": "execute_result",
     "data": {
      "text/plain": [
       "6.5"
      ]
     },
     "metadata": {},
     "execution_count": 2
    }
   ]
  },
  {
   "cell_type": "code",
   "source": [
    "55-35 # Difference between two integers"
   ],
   "metadata": {
    "colab": {
     "base_uri": "https://localhost:8080/"
    },
    "id": "jlyPSSe3ulUK",
    "outputId": "06e553dd-9cd7-4844-9f66-0478e8245da2"
   },
   "execution_count": null,
   "outputs": [
    {
     "output_type": "execute_result",
     "data": {
      "text/plain": [
       "20"
      ]
     },
     "metadata": {},
     "execution_count": 3
    }
   ]
  },
  {
   "cell_type": "code",
   "source": [
    "25 * 25 # product of two integers"
   ],
   "metadata": {
    "colab": {
     "base_uri": "https://localhost:8080/"
    },
    "id": "ONSMhEe_ulOL",
    "outputId": "2d9fea6e-20c9-49b3-db3a-fdaf492f4562"
   },
   "execution_count": null,
   "outputs": [
    {
     "output_type": "execute_result",
     "data": {
      "text/plain": [
       "625"
      ]
     },
     "metadata": {},
     "execution_count": 4
    }
   ]
  },
  {
   "cell_type": "code",
   "source": [
    "25/10 # Quotient of two integers"
   ],
   "metadata": {
    "colab": {
     "base_uri": "https://localhost:8080/"
    },
    "id": "jyfUbhcxulFw",
    "outputId": "1110e7b6-cf27-4ca7-d08f-33a4021b241c"
   },
   "execution_count": null,
   "outputs": [
    {
     "output_type": "execute_result",
     "data": {
      "text/plain": [
       "2.5"
      ]
     },
     "metadata": {},
     "execution_count": 6
    }
   ]
  },
  {
   "cell_type": "code",
   "source": [
    "25//10 # Remainder of 25/10"
   ],
   "metadata": {
    "colab": {
     "base_uri": "https://localhost:8080/"
    },
    "id": "QKKke1URuJVI",
    "outputId": "34ed6855-4019-4e8a-d257-5b69fa7fc7f8"
   },
   "execution_count": null,
   "outputs": [
    {
     "output_type": "execute_result",
     "data": {
      "text/plain": [
       "2"
      ]
     },
     "metadata": {},
     "execution_count": 5
    }
   ]
  },
  {
   "cell_type": "markdown",
   "source": [
    "### **3) String**\n",
    "Now, let's look at some built-in functions for working with strings in Python.\n",
    "\n",
    "See: __[Python String Methods](https://www.w3schools.com/python/python_ref_string.asp)__"
   ],
   "metadata": {
    "id": "ipuI0GwSlGb6"
   }
  },
  {
   "cell_type": "markdown",
   "source": [
    "**Replace**\n",
    "\n",
    "We can replace characters in a string with the .replace() function.\n",
    "\n",
    "`string.replace(oldvalue, newvalue, count)`\n",
    "\n",
    "**old value** is the sequence of charactes that will be replaced\n",
    "\n",
    "**new value** is the new sequence of characters that will be included\n",
    "\n",
    "**count** count is the number of times the replacement will take place, from the beginning of the sentence (left to right). The default value for the count is all occurrences, meaning that all old values will be replaced by new values."
   ],
   "metadata": {
    "id": "Bq-wXmLa3-qG"
   }
  },
  {
   "cell_type": "code",
   "source": [
    "sentence = \"When Mr. Bilbo Baggins of Bag End announced that he would shortly be celebrating his eleventy-first birthday with a party of special magnificence, there was much talk and excitement in Hobbiton.\"\n",
    "print(sentence)"
   ],
   "metadata": {
    "colab": {
     "base_uri": "https://localhost:8080/"
    },
    "id": "_gRZ6RGg5Y2j",
    "outputId": "53d98cdc-6291-487a-b8b7-944813c15c09"
   },
   "execution_count": null,
   "outputs": [
    {
     "output_type": "stream",
     "name": "stdout",
     "text": [
      "When Mr. Bilbo Baggins of Bag End announced that he would shortly be celebrating his eleventy-first birthday with a party of special magnificence, there was much talk and excitement in Hobbiton.\n"
     ]
    }
   ]
  },
  {
   "cell_type": "markdown",
   "source": [
    "Now let's replace 'eleventy-first' with '111th'."
   ],
   "metadata": {
    "id": "i1V3XwbG5dN3"
   }
  },
  {
   "cell_type": "code",
   "source": [
    "sentence.replace('eleventy-first','111th')"
   ],
   "metadata": {
    "colab": {
     "base_uri": "https://localhost:8080/",
     "height": 53
    },
    "id": "FNSx7Hxl33fc",
    "outputId": "da039c8b-0d90-462c-9d9d-cf82fb17435f"
   },
   "execution_count": null,
   "outputs": [
    {
     "output_type": "execute_result",
     "data": {
      "text/plain": [
       "'When Mr. Bilbo Baggins of Bag End announced that he would shortly be celebrating his 111th birthday with a party of special magnificence, there was much talk and excitement in Hobbiton.'"
      ],
      "application/vnd.google.colaboratory.intrinsic+json": {
       "type": "string"
      }
     },
     "metadata": {},
     "execution_count": 14
    }
   ]
  },
  {
   "cell_type": "markdown",
   "source": [
    "We can try replacing some spaces in our sentence."
   ],
   "metadata": {
    "id": "enH2mK5_5k4S"
   }
  },
  {
   "cell_type": "code",
   "source": [
    "sentence.replace(' ','_',5) # try changing the count to see what happens"
   ],
   "metadata": {
    "colab": {
     "base_uri": "https://localhost:8080/",
     "height": 53
    },
    "id": "gukFY-Ul5kXb",
    "outputId": "e4687bf3-be3e-4a35-933b-180b92c523e3"
   },
   "execution_count": null,
   "outputs": [
    {
     "output_type": "execute_result",
     "data": {
      "text/plain": [
       "'When_Mr._Bilbo_Baggins_of_Bag End announced that he would shortly be celebrating his eleventy-first birthday with a party of special magnificence, there was much talk and excitement in Hobbiton.'"
      ],
      "application/vnd.google.colaboratory.intrinsic+json": {
       "type": "string"
      }
     },
     "metadata": {},
     "execution_count": 18
    }
   ]
  },
  {
   "cell_type": "markdown",
   "source": [
    " Now in our story below there are some misspellings, let's try to correct them."
   ],
   "metadata": {
    "collapsed": false,
    "id": "9NME3Xc2mqO5"
   }
  },
  {
   "cell_type": "code",
   "source": [
    "story = \"Alice was beginning to get very tired of sitting by her sitser on the bank, and of having nothing to do: once or twice she had peeped into the bok her sister was reading, but it had no pictures or conversations in it, 'and what is the use of a bok,' thought Alce 'without pictures or conversations?'\"\n",
    "print(story)"
   ],
   "metadata": {
    "colab": {
     "base_uri": "https://localhost:8080/"
    },
    "id": "0j3mUEI057i9",
    "outputId": "dc30f1fb-dc55-410b-83fe-06b3e68b5b4f"
   },
   "execution_count": null,
   "outputs": [
    {
     "output_type": "stream",
     "name": "stdout",
     "text": [
      "Alice was beginning to get very tired of sitting by her sitser on the bank, and of having nothing to do: once or twice she had peeped into the bok her sister was reading, but it had no pictures or conversations in it, 'and what is the use of a bok,' thought Alce 'without pictures or conversations?'\n"
     ]
    }
   ]
  },
  {
   "cell_type": "markdown",
   "source": [
    "We can apply the replace method several times after each other."
   ],
   "metadata": {
    "id": "CtlMXp_q6kjv"
   }
  },
  {
   "cell_type": "code",
   "source": [
    "story.replace('sitser','sister').replace('bok','book').replace('Alce','Alice')"
   ],
   "metadata": {
    "colab": {
     "base_uri": "https://localhost:8080/",
     "height": 70
    },
    "id": "eVgo72D96MTr",
    "outputId": "fe44af3c-0491-4413-863f-0b93ceefc101"
   },
   "execution_count": null,
   "outputs": [
    {
     "output_type": "execute_result",
     "data": {
      "text/plain": [
       "\"Alice was beginning to get very tired of sitting by her sister on the bank, and of having nothing to do: once or twice she had peeped into the book her sister was reading, but it had no pictures or conversations in it, 'and what is the use of a book,' thought Alice 'without pictures or conversations?'\""
      ],
      "application/vnd.google.colaboratory.intrinsic+json": {
       "type": "string"
      }
     },
     "metadata": {},
     "execution_count": 21
    }
   ]
  },
  {
   "cell_type": "markdown",
   "source": [
    "Now let's look at our story again..."
   ],
   "metadata": {
    "id": "eTdiTVPN6iaJ"
   }
  },
  {
   "cell_type": "code",
   "source": [
    "print(story)"
   ],
   "metadata": {
    "colab": {
     "base_uri": "https://localhost:8080/"
    },
    "id": "UyyUU-Sj6ao9",
    "outputId": "472c7177-c388-4e0b-b25c-9c8fbf3ac7a9"
   },
   "execution_count": null,
   "outputs": [
    {
     "output_type": "stream",
     "name": "stdout",
     "text": [
      "Alice was beginning to get very tired of sitting by her sitser on the bank, and of having nothing to do: once or twice she had peeped into the bok her sister was reading, but it had no pictures or conversations in it, 'and what is the use of a bok,' thought Alce 'without pictures or conversations?'\n"
     ]
    }
   ]
  },
  {
   "cell_type": "markdown",
   "source": [
    "Did you notice how the story still has all the mistakes? \n",
    "\n",
    "That happens because we did not save our new story again in the variable. We need to assign the new corrected value to our **story** variable."
   ],
   "metadata": {
    "id": "0MMo3vfw6ozU"
   }
  },
  {
   "cell_type": "code",
   "source": [
    "story = story.replace('sitser','sister').replace('bok','book').replace('Alce','Alice')\n",
    "print(story)"
   ],
   "metadata": {
    "colab": {
     "base_uri": "https://localhost:8080/"
    },
    "id": "3vA8UhDH7E2L",
    "outputId": "40181809-357d-49f7-a86d-fd3c50483d08"
   },
   "execution_count": null,
   "outputs": [
    {
     "output_type": "stream",
     "name": "stdout",
     "text": [
      "Alice was beginning to get very tired of sitting by her sister on the bank, and of having nothing to do: once or twice she had peeped into the book her sister was reading, but it had no pictures or conversations in it, 'and what is the use of a book,' thought Alice 'without pictures or conversations?'\n"
     ]
    }
   ]
  },
  {
   "cell_type": "markdown",
   "source": [
    "Let's look at other methods..."
   ],
   "metadata": {
    "id": "FhZZ1iz77Yme"
   }
  },
  {
   "cell_type": "markdown",
   "source": [
    "**Count**\n",
    "\n",
    "Counts the number of occurrences of a value in a string.\n",
    "\n",
    "`string.count('value')`"
   ],
   "metadata": {
    "id": "n51b5Ie27mZo"
   }
  },
  {
   "cell_type": "code",
   "source": [
    "story.count('Alice')"
   ],
   "metadata": {
    "colab": {
     "base_uri": "https://localhost:8080/"
    },
    "id": "IhXl-tsz7b7Y",
    "outputId": "05e97807-e4e7-4209-fcf2-b359e0df99e1"
   },
   "execution_count": null,
   "outputs": [
    {
     "output_type": "execute_result",
     "data": {
      "text/plain": [
       "2"
      ]
     },
     "metadata": {},
     "execution_count": 24
    }
   ]
  },
  {
   "cell_type": "markdown",
   "source": [
    "**Find**\n",
    "\n",
    "Finds the location of a specific value in a string.\n",
    "\n",
    "`string.find('value')`\n"
   ],
   "metadata": {
    "id": "_Wr5qfvX70Jf"
   }
  },
  {
   "cell_type": "code",
   "source": [
    "country = 'germany' # we five the value 'Germany' to the variable country\n",
    "\n",
    "country.find('e')"
   ],
   "metadata": {
    "colab": {
     "base_uri": "https://localhost:8080/"
    },
    "id": "1JddIGBR7zu_",
    "outputId": "db6263c2-da55-4e44-f116-32eb9e17a041"
   },
   "execution_count": null,
   "outputs": [
    {
     "output_type": "execute_result",
     "data": {
      "text/plain": [
       "1"
      ]
     },
     "metadata": {},
     "execution_count": 34
    }
   ]
  },
  {
   "cell_type": "markdown",
   "source": [
    "The result was 1, meaning that this is the second character in the string.\n",
    "\n",
    "**Indexes in Python start at 0**\n",
    "\n",
    "**g** index 0<br>\n",
    "**e** index 1<br>\n",
    "**r** index 2<br>\n",
    "**m** index 3<br>\n",
    "**a** index 4<br>\n",
    "**n** index 5<br>\n",
    "**y** index 6<br>\n",
    "\n",
    "To access the index of an object we use the following syntax:\n",
    "\n",
    "`object[index]`\n",
    "\n",
    "In our case this would be:\n",
    "\n",
    "\n",
    "\n",
    "```\n",
    "country[1]\n",
    "e\n",
    "```\n",
    "\n",
    "\n",
    "\n",
    "let's test this:"
   ],
   "metadata": {
    "id": "Pfv1Tzkz8M58"
   }
  },
  {
   "cell_type": "code",
   "source": [
    "country[3] # the result should be 'm'"
   ],
   "metadata": {
    "id": "8MKre6rC80X0"
   },
   "execution_count": null,
   "outputs": []
  },
  {
   "cell_type": "markdown",
   "source": [
    "We can also **count** the number of characters in a string.\n",
    "\n",
    "`len(string)`"
   ],
   "metadata": {
    "id": "wegUOWHE9S-k"
   }
  },
  {
   "cell_type": "code",
   "source": [
    "len(country)"
   ],
   "metadata": {
    "colab": {
     "base_uri": "https://localhost:8080/"
    },
    "id": "AbDluYZQ9cex",
    "outputId": "505be492-c3fa-44a3-e276-8e445f0e5f5f"
   },
   "execution_count": null,
   "outputs": [
    {
     "output_type": "execute_result",
     "data": {
      "text/plain": [
       "7"
      ]
     },
     "metadata": {},
     "execution_count": 27
    }
   ]
  },
  {
   "cell_type": "markdown",
   "source": [
    "The result is 7, that is the total of characters in 'Germany'. When we are counting or doing calculations, we do not need to start at 0."
   ],
   "metadata": {
    "id": "pLvHa90s9fCE"
   }
  },
  {
   "cell_type": "code",
   "source": [
    "len('Spaces are also counted, as are punctuation characters!')"
   ],
   "metadata": {
    "colab": {
     "base_uri": "https://localhost:8080/"
    },
    "id": "3d-AGGrG9of5",
    "outputId": "ac5d3aa3-4d74-4315-9bcb-2817944b56f6"
   },
   "execution_count": null,
   "outputs": [
    {
     "output_type": "execute_result",
     "data": {
      "text/plain": [
       "55"
      ]
     },
     "metadata": {},
     "execution_count": 28
    }
   ]
  },
  {
   "cell_type": "markdown",
   "source": [
    "**Split**\n",
    "\n",
    "We can divide a string on a specific character using the method split.\n",
    "\n",
    "`string.split(separator,maxsplit)`\n",
    "\n",
    "**separator**: specifies the separator to be used for splitting the string. The default value is a whitespace, this means that if you do not specify a value, the string will be split at whitespaces.\n",
    "\n",
    "**maxsplit**: specifies the number of times to perform a split. The default value is all occurrences. "
   ],
   "metadata": {
    "id": "Utb3UMGR-BaF"
   }
  },
  {
   "cell_type": "code",
   "source": [
    "bratkartoffeln = 'kartoffeln,öl,salz,pfeffer,zwiebeln'"
   ],
   "metadata": {
    "id": "Rxt_FtpA-mZJ"
   },
   "execution_count": null,
   "outputs": []
  },
  {
   "cell_type": "code",
   "source": [
    "bratkartoffeln.split(',') # splits at every comma"
   ],
   "metadata": {
    "colab": {
     "base_uri": "https://localhost:8080/"
    },
    "id": "bXxqFL5v-3a7",
    "outputId": "1119ba60-976e-4d73-fe90-209263e3dd68"
   },
   "execution_count": null,
   "outputs": [
    {
     "output_type": "execute_result",
     "data": {
      "text/plain": [
       "['kartoffeln', 'öl', 'salz', 'pfeffer', 'zwiebeln']"
      ]
     },
     "metadata": {},
     "execution_count": 30
    }
   ]
  },
  {
   "cell_type": "code",
   "source": [
    "bratkartoffeln.split(',', 2) # splits on the first 2 commas"
   ],
   "metadata": {
    "colab": {
     "base_uri": "https://localhost:8080/"
    },
    "id": "APilfLck-6u5",
    "outputId": "ddcb2b19-848b-4e3f-ab0d-90e1cc6b9a79"
   },
   "execution_count": null,
   "outputs": [
    {
     "output_type": "execute_result",
     "data": {
      "text/plain": [
       "['kartoffeln', 'öl', 'salz,pfeffer,zwiebeln']"
      ]
     },
     "metadata": {},
     "execution_count": 31
    }
   ]
  },
  {
   "cell_type": "code",
   "source": [
    "bratkartoffeln.split() # splits at every whitespace, but there are none"
   ],
   "metadata": {
    "colab": {
     "base_uri": "https://localhost:8080/"
    },
    "id": "rOQ6E71a-9tp",
    "outputId": "a017ee48-3977-4e05-d29c-7c717337004a"
   },
   "execution_count": null,
   "outputs": [
    {
     "output_type": "execute_result",
     "data": {
      "text/plain": [
       "['kartoffeln,öl,salz,pfeffer,zwiebeln']"
      ]
     },
     "metadata": {},
     "execution_count": 32
    }
   ]
  },
  {
   "cell_type": "markdown",
   "source": [
    "The result of a split is a list and the lenght of this list is the number of separators (or maxsplit, if defined) plus one."
   ],
   "metadata": {
    "id": "z_DMiwQy_G8Z"
   }
  },
  {
   "cell_type": "markdown",
   "source": [
    "**Formatting methods**\n",
    "\n",
    "There are also methods which are used for formatting the string.\n",
    "In our **country** string we have the name of a country, but that should be capitalized. Let's fix that."
   ],
   "metadata": {
    "id": "cVqYMJC2_bJc"
   }
  },
  {
   "cell_type": "code",
   "source": [
    "country.capitalize()"
   ],
   "metadata": {
    "colab": {
     "base_uri": "https://localhost:8080/",
     "height": 36
    },
    "id": "mUHXVM2g_y2a",
    "outputId": "2461158c-2303-49e3-be55-278fef2780f8"
   },
   "execution_count": null,
   "outputs": [
    {
     "output_type": "execute_result",
     "data": {
      "text/plain": [
       "'Germany'"
      ],
      "application/vnd.google.colaboratory.intrinsic+json": {
       "type": "string"
      }
     },
     "metadata": {},
     "execution_count": 36
    }
   ]
  },
  {
   "cell_type": "markdown",
   "source": [
    "We can also format the string with uppercase."
   ],
   "metadata": {
    "id": "LH5a6p-EAXRD"
   }
  },
  {
   "cell_type": "code",
   "source": [
    "country.upper()"
   ],
   "metadata": {
    "colab": {
     "base_uri": "https://localhost:8080/",
     "height": 36
    },
    "id": "_2cNt7-rAUI6",
    "outputId": "9e368b8a-5ee9-4632-bfdb-788baa62f426"
   },
   "execution_count": null,
   "outputs": [
    {
     "output_type": "execute_result",
     "data": {
      "text/plain": [
       "'GERMANY'"
      ],
      "application/vnd.google.colaboratory.intrinsic+json": {
       "type": "string"
      }
     },
     "metadata": {},
     "execution_count": 37
    }
   ]
  },
  {
   "cell_type": "markdown",
   "source": [
    "In our **Bratkartoffeln** string, the nouns should all be capitalized. To fix that we can use the method `.title()`\n",
    "\n",
    "This method capitalizes the first letter of every word in the string."
   ],
   "metadata": {
    "id": "0NRS_hLNAsUZ"
   }
  },
  {
   "cell_type": "code",
   "source": [
    "bratkartoffeln.title()"
   ],
   "metadata": {
    "colab": {
     "base_uri": "https://localhost:8080/",
     "height": 36
    },
    "id": "znkcH-SGAjW4",
    "outputId": "768647de-6b77-448e-8747-3326505623dd"
   },
   "execution_count": null,
   "outputs": [
    {
     "output_type": "execute_result",
     "data": {
      "text/plain": [
       "'Kartoffeln,Öl,Salz,Pfeffer,Zwiebeln'"
      ],
      "application/vnd.google.colaboratory.intrinsic+json": {
       "type": "string"
      }
     },
     "metadata": {},
     "execution_count": 39
    }
   ]
  },
  {
   "cell_type": "markdown",
   "source": [
    "We can also add strings. This means that our strings will be put one after the other, forming a new, longer string."
   ],
   "metadata": {
    "id": "3ZQQ7VtyB-Sp"
   }
  },
  {
   "cell_type": "code",
   "source": [
    "recipe = 'Kartoffeln'+','+'500g'+','+'Öl'+','+'1 EL'+','+'Salz'+','+'1 TL'+','+'Pfeffer'+','+'1/2 TL'+','+'Zwiebeln'+','+'75g'\n",
    "\n",
    "print(recipe)"
   ],
   "metadata": {
    "colab": {
     "base_uri": "https://localhost:8080/"
    },
    "id": "0p4plnuZB9d4",
    "outputId": "91627c17-6ffd-448f-9367-bc6564840588"
   },
   "execution_count": null,
   "outputs": [
    {
     "output_type": "stream",
     "name": "stdout",
     "text": [
      "Kartoffeln,500g,Öl,1 EL,Salz,1 TL,Pfeffer,1/2 TL,Zwiebeln,75g\n"
     ]
    }
   ]
  },
  {
   "cell_type": "markdown",
   "source": [
    "#### F-strings\n",
    "\n",
    "F-strings are used in Python to display **variables** and execute short actions within a string. We denote an f-string by adding an f before the string. The syntax of an f-string is the following:\n",
    "\n",
    "\n",
    "\n",
    "```\n",
    "f\"This is a string with a {variable}\"\n",
    "OR\n",
    "f'This is a string with a {variable}'\n",
    "```\n",
    "\n",
    "Note that we indicate what should not be interpreted as a string by enclosing it in curly brackets {}.\n",
    "\n"
   ],
   "metadata": {
    "id": "3tVdTXJJLUTz"
   }
  },
  {
   "cell_type": "code",
   "source": [
    "a = 1\n",
    "b = 10\n",
    "c = 'soccer'\n",
    "\n",
    "print(f'In {c} there are {10} players in line plus {a} goalkeeper. \\n In total there are {a+b} players')\n",
    "\n",
    "# \\n in a string adds a line break. This is true for strings and f-strings"
   ],
   "metadata": {
    "colab": {
     "base_uri": "https://localhost:8080/"
    },
    "id": "AadbgNjEIWi4",
    "outputId": "f2df0a0d-469c-4094-b35f-ff334cc54358"
   },
   "execution_count": null,
   "outputs": [
    {
     "output_type": "stream",
     "name": "stdout",
     "text": [
      "In soccer there are 10 players in line plus 1 goalkeeper. \n",
      " In total there are 11 players\n"
     ]
    }
   ]
  },
  {
   "cell_type": "markdown",
   "source": [
    "### **4) List**"
   ],
   "metadata": {
    "id": "a31tB8Teldad"
   }
  },
  {
   "cell_type": "markdown",
   "source": [
    "Now let's see what we can do with lists. We can create a list by splitting our **recipe** string on the commas.\n",
    "\n",
    "See: [List/Array methods](https://www.w3schools.com/python/python_ref_list.asp)"
   ],
   "metadata": {
    "id": "Yf0Qsj_XDS86"
   }
  },
  {
   "cell_type": "code",
   "source": [
    "recipe_list = recipe.split(',')"
   ],
   "metadata": {
    "id": "at0-ZoJ7DStx"
   },
   "execution_count": null,
   "outputs": []
  },
  {
   "cell_type": "code",
   "source": [
    "print(recipe_list)"
   ],
   "metadata": {
    "colab": {
     "base_uri": "https://localhost:8080/"
    },
    "id": "QpNfBMiTDi8a",
    "outputId": "19d09a0f-be47-499c-e33c-b32e674d3327"
   },
   "execution_count": null,
   "outputs": [
    {
     "output_type": "stream",
     "name": "stdout",
     "text": [
      "['Kartoffeln', '500g', 'Öl', '1 EL', 'Salz', '1 TL', 'Pfeffer', '1/2 TL', 'Zwiebeln', '75g']\n"
     ]
    }
   ]
  },
  {
   "cell_type": "markdown",
   "source": [
    "Now we have a list with all our ingredients and quantities. But I forgot to add bacon. To add another element to our list we use the method `list.append(newelement)`"
   ],
   "metadata": {
    "id": "npkN65uJCcpd"
   }
  },
  {
   "cell_type": "code",
   "source": [
    "recipe_list.append('Bacon')\n",
    "print(recipe_list)"
   ],
   "metadata": {
    "colab": {
     "base_uri": "https://localhost:8080/"
    },
    "id": "tbaP2s3NEOQj",
    "outputId": "cc908445-dc22-4f9c-e9b3-a9e0058c8eb3"
   },
   "execution_count": null,
   "outputs": [
    {
     "output_type": "stream",
     "name": "stdout",
     "text": [
      "['Kartoffeln', '500g', 'Öl', '1 EL', 'Salz', '1 TL', 'Pfeffer', '1/2 TL', 'Zwiebeln', '75g', 'Bacon']\n"
     ]
    }
   ]
  },
  {
   "cell_type": "markdown",
   "source": [
    "Note that, differently than with the modified strings, the list did not have to be saved again in the variable **recipe_list** for the change to take effect. That happens because lists are *mutable*, that is, they can be modified.\n",
    "\n",
    "We added our new ingredient in the wrond language, let's fix that by assigning a new value to that element."
   ],
   "metadata": {
    "id": "O3V47g3nBnUY"
   }
  },
  {
   "cell_type": "code",
   "source": [
    "# First we need to find the index of 'Bacon'\n",
    "recipe_list.index('Bacon')"
   ],
   "metadata": {
    "colab": {
     "base_uri": "https://localhost:8080/"
    },
    "id": "ActVMfEnE72X",
    "outputId": "525b7feb-b4e7-43da-cb38-e130b2d90f3e"
   },
   "execution_count": null,
   "outputs": [
    {
     "output_type": "execute_result",
     "data": {
      "text/plain": [
       "10"
      ]
     },
     "metadata": {},
     "execution_count": 61
    }
   ]
  },
  {
   "cell_type": "code",
   "source": [
    "# Now we can use the index to attribute a new value to that location\n",
    "recipe_list[10] = 'Speck'"
   ],
   "metadata": {
    "id": "YW1YjhG5Fa7i"
   },
   "execution_count": null,
   "outputs": []
  },
  {
   "cell_type": "code",
   "source": [
    "# Let's see if it works:\n",
    "\n",
    "print(recipe_list)"
   ],
   "metadata": {
    "colab": {
     "base_uri": "https://localhost:8080/"
    },
    "id": "Os3nkacJFjVV",
    "outputId": "095d5dc2-904d-4b24-bd12-b43f8a5e0b9e"
   },
   "execution_count": null,
   "outputs": [
    {
     "output_type": "stream",
     "name": "stdout",
     "text": [
      "['Kartoffeln', '500g', 'Öl', '1 EL', 'Salz', '1 TL', 'Pfeffer', '1/2 TL', 'Zwiebeln', '75g', 'Speck']\n"
     ]
    }
   ]
  },
  {
   "cell_type": "code",
   "source": [
    "# If i change my mind, I can remove the item\n",
    "recipe_list.remove('Speck')\n",
    "print(recipe_list)"
   ],
   "metadata": {
    "colab": {
     "base_uri": "https://localhost:8080/"
    },
    "id": "FCGLOuXXFnif",
    "outputId": "9f4f13b0-d803-4069-e353-997036fc6f05"
   },
   "execution_count": null,
   "outputs": [
    {
     "output_type": "stream",
     "name": "stdout",
     "text": [
      "['Kartoffeln', '500g', 'Öl', '1 EL', 'Salz', '1 TL', 'Pfeffer', '1/2 TL', 'Zwiebeln', '75g']\n"
     ]
    }
   ]
  },
  {
   "cell_type": "markdown",
   "source": [
    "To see what else we can do with lists, let's create a list with the countries in the European Union."
   ],
   "metadata": {
    "id": "jPyks3nsGwS4"
   }
  },
  {
   "cell_type": "code",
   "source": [
    "countriesEU = ['Austria',\n",
    " 'Spain',\n",
    " 'Denmark',\n",
    " 'Lithuania',\n",
    " 'Ireland',\n",
    " 'Croatia',\n",
    " 'Poland',\n",
    " 'Luxembourg',\n",
    " 'Czech Republic',\n",
    " 'Hungary',\n",
    " 'Slovakia',\n",
    " 'Italy',\n",
    " 'Republic of Cyprus',\n",
    " 'Romania',\n",
    " 'Bulgaria',\n",
    " 'Latvia',\n",
    " 'France',\n",
    " 'Greece',\n",
    " 'Sweden',\n",
    " 'Malta',\n",
    " 'Netherlands',\n",
    " 'Belgium',\n",
    " 'Slovenia',\n",
    " 'Finland',\n",
    " 'Germany',\n",
    " 'Estonia',\n",
    " 'Portugal']"
   ],
   "metadata": {
    "id": "jlxE7JTNGPyG"
   },
   "execution_count": null,
   "outputs": []
  },
  {
   "cell_type": "markdown",
   "source": [
    "We can put our list in alphabetical order."
   ],
   "metadata": {
    "id": "OT-YIIEJG13j"
   }
  },
  {
   "cell_type": "code",
   "source": [
    "countriesEU.sort()\n",
    "print(countriesEU)"
   ],
   "metadata": {
    "colab": {
     "base_uri": "https://localhost:8080/"
    },
    "id": "QS2KVocuG1Tp",
    "outputId": "4d15517f-5c57-407c-9b8a-8f51d4b2be76"
   },
   "execution_count": null,
   "outputs": [
    {
     "output_type": "stream",
     "name": "stdout",
     "text": [
      "['Austria', 'Belgium', 'Bulgaria', 'Croatia', 'Czech Republic', 'Denmark', 'Estonia', 'Finland', 'France', 'Germany', 'Greece', 'Hungary', 'Ireland', 'Italy', 'Latvia', 'Lithuania', 'Luxembourg', 'Malta', 'Netherlands', 'Poland', 'Portugal', 'Republic of Cyprus', 'Romania', 'Slovakia', 'Slovenia', 'Spain', 'Sweden']\n"
     ]
    }
   ]
  },
  {
   "cell_type": "markdown",
   "source": [
    "We can also sort it in reverse order."
   ],
   "metadata": {
    "id": "hRMoppekHHMl"
   }
  },
  {
   "cell_type": "code",
   "source": [
    "countriesEU.sort(reverse=True)\n",
    "print(countriesEU)"
   ],
   "metadata": {
    "colab": {
     "base_uri": "https://localhost:8080/"
    },
    "id": "FyC1giLTHJxT",
    "outputId": "acb3deb1-8956-441e-db3e-db8385b87cff"
   },
   "execution_count": null,
   "outputs": [
    {
     "output_type": "stream",
     "name": "stdout",
     "text": [
      "['Sweden', 'Spain', 'Slovenia', 'Slovakia', 'Romania', 'Republic of Cyprus', 'Portugal', 'Poland', 'Netherlands', 'Malta', 'Luxembourg', 'Lithuania', 'Latvia', 'Italy', 'Ireland', 'Hungary', 'Greece', 'Germany', 'France', 'Finland', 'Estonia', 'Denmark', 'Czech Republic', 'Croatia', 'Bulgaria', 'Belgium', 'Austria']\n"
     ]
    }
   ]
  },
  {
   "cell_type": "markdown",
   "source": [
    "### **7) Dictionary**\n",
    "\n",
    "Now let's look at the methods we can use for dictionaries.\n",
    "\n",
    "See [Dictionary Methods](https://www.w3schools.com/python/python_ref_dictionary.asp)\n",
    "\n",
    "First, we create a dictionary. To create a dictionary we follow the syntax below:\n",
    "\n",
    "\n",
    "```\n",
    "{key1:value,key2:value}\n",
    "```\n",
    "\n"
   ],
   "metadata": {
    "id": "JGaFrzRBlosC"
   }
  },
  {
   "cell_type": "code",
   "source": [
    "languageAbbr = {'es':'spanish', 'en':'english', 'de':'deutsch', 'pt':'portuguese'}"
   ],
   "metadata": {
    "id": "beJ-7LgYIdHN"
   },
   "execution_count": null,
   "outputs": []
  },
  {
   "cell_type": "code",
   "source": [
    "languageAbbr['es'] # get the value of the specified key, the key functions as an index"
   ],
   "metadata": {
    "colab": {
     "base_uri": "https://localhost:8080/",
     "height": 36
    },
    "id": "_bGPG3AvIl4q",
    "outputId": "bc856725-79bf-4084-fd83-02aa4b1e26b1"
   },
   "execution_count": null,
   "outputs": [
    {
     "output_type": "execute_result",
     "data": {
      "text/plain": [
       "'spanish'"
      ],
      "application/vnd.google.colaboratory.intrinsic+json": {
       "type": "string"
      }
     },
     "metadata": {},
     "execution_count": 47
    }
   ]
  },
  {
   "cell_type": "code",
   "source": [
    "languageAbbr.values() # gets all the values of the dictionary"
   ],
   "metadata": {
    "colab": {
     "base_uri": "https://localhost:8080/"
    },
    "id": "IlUBFs6AIoUP",
    "outputId": "1ce4fe6c-023d-4106-c49a-ba4dcd3c8872"
   },
   "execution_count": null,
   "outputs": [
    {
     "output_type": "execute_result",
     "data": {
      "text/plain": [
       "dict_values(['spanish', 'english', 'deutsch', 'portuguese'])"
      ]
     },
     "metadata": {},
     "execution_count": 48
    }
   ]
  },
  {
   "cell_type": "code",
   "source": [
    "languageAbbr.items () # gets all the pairs key,value in the dictionary"
   ],
   "metadata": {
    "colab": {
     "base_uri": "https://localhost:8080/"
    },
    "id": "fWb81DJOHW6s",
    "outputId": "011a5789-547a-46c4-edab-da74600e8545"
   },
   "execution_count": null,
   "outputs": [
    {
     "output_type": "execute_result",
     "data": {
      "text/plain": [
       "dict_items([('es', 'spanish'), ('en', 'english'), ('de', 'deutsch'), ('pt', 'portuguese')])"
      ]
     },
     "metadata": {},
     "execution_count": 50
    }
   ]
  },
  {
   "cell_type": "markdown",
   "source": [
    "### **8) Boolean values**\n",
    "\n",
    "There are two possible boolean values: True or False.\n"
   ],
   "metadata": {
    "id": "Bvvp_aXZltrs"
   }
  },
  {
   "cell_type": "code",
   "source": [
    "5 > 1"
   ],
   "metadata": {
    "colab": {
     "base_uri": "https://localhost:8080/"
    },
    "id": "AMBUUKuC9e85",
    "outputId": "ab5520e4-de1c-49d1-9c27-339719f65f6f"
   },
   "execution_count": null,
   "outputs": [
    {
     "output_type": "execute_result",
     "data": {
      "text/plain": [
       "True"
      ]
     },
     "metadata": {},
     "execution_count": 80
    }
   ]
  },
  {
   "cell_type": "code",
   "source": [
    "5 < 1"
   ],
   "metadata": {
    "colab": {
     "base_uri": "https://localhost:8080/"
    },
    "id": "wtRg4IBNJb8d",
    "outputId": "b57f734d-627d-4c1e-a11f-3d1b8f6d374a"
   },
   "execution_count": null,
   "outputs": [
    {
     "output_type": "execute_result",
     "data": {
      "text/plain": [
       "False"
      ]
     },
     "metadata": {},
     "execution_count": 81
    }
   ]
  },
  {
   "cell_type": "markdown",
   "source": [
    "**Boolean Operators**\n",
    "\n",
    "We can use logical operators to evaluate statements, we call these boolean operators.\n",
    "\n",
    "They are:\n",
    "AND\n",
    "NOT\n",
    "OR"
   ],
   "metadata": {
    "id": "aQ9DJT2GJ2fT"
   }
  },
  {
   "cell_type": "markdown",
   "source": [
    "**AND**"
   ],
   "metadata": {
    "id": "Wgbl92y5J8KH"
   }
  },
  {
   "cell_type": "code",
   "source": [
    "5 > 1 and 5 > 2 # true and true equals true"
   ],
   "metadata": {
    "colab": {
     "base_uri": "https://localhost:8080/"
    },
    "id": "YhlUaIn2Jflh",
    "outputId": "da0e4d3e-8561-4aa0-f83c-8cac71d5d9d5"
   },
   "execution_count": null,
   "outputs": [
    {
     "output_type": "execute_result",
     "data": {
      "text/plain": [
       "True"
      ]
     },
     "metadata": {},
     "execution_count": 83
    }
   ]
  },
  {
   "cell_type": "code",
   "source": [
    "5 > 1 and 5 > 6 # true and false equals false"
   ],
   "metadata": {
    "colab": {
     "base_uri": "https://localhost:8080/"
    },
    "id": "7DNzTPX8KBFK",
    "outputId": "71b452d9-1f08-4b6e-8d2e-1583c0d3c2a7"
   },
   "execution_count": null,
   "outputs": [
    {
     "output_type": "execute_result",
     "data": {
      "text/plain": [
       "False"
      ]
     },
     "metadata": {},
     "execution_count": 84
    }
   ]
  },
  {
   "cell_type": "markdown",
   "source": [
    "**NOT**"
   ],
   "metadata": {
    "id": "DSUyPwx1KHr0"
   }
  },
  {
   "cell_type": "code",
   "source": [
    "not 5 > 1 # not true equals false"
   ],
   "metadata": {
    "colab": {
     "base_uri": "https://localhost:8080/"
    },
    "id": "AAHqmFKvKN9c",
    "outputId": "358330af-dac5-414d-d150-edef0ccf6379"
   },
   "execution_count": null,
   "outputs": [
    {
     "output_type": "execute_result",
     "data": {
      "text/plain": [
       "False"
      ]
     },
     "metadata": {},
     "execution_count": 86
    }
   ]
  },
  {
   "cell_type": "code",
   "source": [
    "not 5 > 10 # not false equals true"
   ],
   "metadata": {
    "colab": {
     "base_uri": "https://localhost:8080/"
    },
    "id": "TBL3erJzKSgr",
    "outputId": "c4c5176b-6b7e-4334-f096-0a3be5dcf2ce"
   },
   "execution_count": null,
   "outputs": [
    {
     "output_type": "execute_result",
     "data": {
      "text/plain": [
       "True"
      ]
     },
     "metadata": {},
     "execution_count": 87
    }
   ]
  },
  {
   "cell_type": "markdown",
   "source": [
    "**OR**"
   ],
   "metadata": {
    "id": "pfSOE55tKWMz"
   }
  },
  {
   "cell_type": "code",
   "source": [
    "5 > 1 or 5 > 6 # true or false equals true"
   ],
   "metadata": {
    "colab": {
     "base_uri": "https://localhost:8080/"
    },
    "id": "QUaggHeTKYIf",
    "outputId": "ddac1615-6495-49a2-cbfe-6ff300d293a8"
   },
   "execution_count": null,
   "outputs": [
    {
     "output_type": "execute_result",
     "data": {
      "text/plain": [
       "True"
      ]
     },
     "metadata": {},
     "execution_count": 88
    }
   ]
  },
  {
   "cell_type": "code",
   "source": [
    "5 > 1 or 5 > 3 # true or true equals true"
   ],
   "metadata": {
    "colab": {
     "base_uri": "https://localhost:8080/"
    },
    "id": "yPHcgicbKd-g",
    "outputId": "81901232-7368-43a2-f07a-f4a608bd3b1d"
   },
   "execution_count": null,
   "outputs": [
    {
     "output_type": "execute_result",
     "data": {
      "text/plain": [
       "True"
      ]
     },
     "metadata": {},
     "execution_count": 89
    }
   ]
  },
  {
   "cell_type": "code",
   "source": [
    "5 > 10 or 5 > 16 # false or false equals false"
   ],
   "metadata": {
    "colab": {
     "base_uri": "https://localhost:8080/"
    },
    "id": "wh9stlL3KhEH",
    "outputId": "0f4c1a06-ca85-4a91-b4dd-112fee730029"
   },
   "execution_count": null,
   "outputs": [
    {
     "output_type": "execute_result",
     "data": {
      "text/plain": [
       "False"
      ]
     },
     "metadata": {},
     "execution_count": 90
    }
   ]
  },
  {
   "cell_type": "markdown",
   "source": [
    "\n",
    "\n",
    "---\n",
    "\n",
    "\n",
    "\n",
    "---\n",
    "\n"
   ],
   "metadata": {
    "id": "yTLPcbQYKmzb"
   }
  },
  {
   "cell_type": "markdown",
   "source": [
    "## Casting\n",
    "\n",
    "You can also determine the type of the data stored in a variable. You can do this with casting. \n",
    "\n",
    "We can define a type string onto an integer:\n",
    "```\n",
    "my_variable = str(4)\n",
    "```\n",
    "Or a type integer onto an string of digits:\n",
    "```\n",
    "my_variable = int('125')\n",
    "```\n",
    "\n",
    "See more: [Casting](https://www.w3schools.com/python/python_casting.asp)"
   ],
   "metadata": {
    "id": "QmUa8Z1iLEqe"
   }
  },
  {
   "cell_type": "markdown",
   "source": [
    "Let's try to find an application for this.\n",
    "\n",
    "According to our Bratkartoffeln recipe, we should use 500g of potatoes.\n"
   ],
   "metadata": {
    "id": "_fHXNh7j1GFF"
   }
  },
  {
   "cell_type": "code",
   "source": [
    "kartoffeln = \"Kartoffeln,500g\"\n",
    "kartoffeln_qt = kartoffeln.split(',') # first we split the ingredient and the quantity\n",
    "print(kartoffeln_qt)"
   ],
   "metadata": {
    "colab": {
     "base_uri": "https://localhost:8080/"
    },
    "id": "oVN0DEDfLH8U",
    "outputId": "973e1569-8107-439e-acb6-6c3fb0d25972"
   },
   "execution_count": null,
   "outputs": [
    {
     "output_type": "stream",
     "name": "stdout",
     "text": [
      "['Kartoffeln', '500g']\n"
     ]
    }
   ]
  },
  {
   "cell_type": "markdown",
   "source": [
    "The result is a list of two elements:\n",
    "\n",
    "kartoffeln_qt[0] is 'Kartoffeln'\n",
    "\n",
    "kartoffeln_qt[1] is '500g'\n",
    "\n",
    "Remember that indexes start at 0.\n",
    "We want to access the second element of our list, '500g', but we need to get rid of this letter g.\n"
   ],
   "metadata": {
    "id": "G5MyliA31mmO"
   }
  },
  {
   "cell_type": "code",
   "source": [
    "# We can use .split() for that\n",
    "kartoffeln_qt = kartoffeln_qt[1].replace('g','') # replace 'g' by nothing\n",
    "# What is the result?\n",
    "print(kartoffeln_qt)\n",
    "type(kartoffeln_qt)\n"
   ],
   "metadata": {
    "colab": {
     "base_uri": "https://localhost:8080/"
    },
    "id": "TaVPZd5D1alZ",
    "outputId": "5782cb45-4a74-4130-b5f5-f3b40956a218"
   },
   "execution_count": null,
   "outputs": [
    {
     "output_type": "stream",
     "name": "stdout",
     "text": [
      "500\n"
     ]
    },
    {
     "output_type": "execute_result",
     "data": {
      "text/plain": [
       "str"
      ]
     },
     "metadata": {},
     "execution_count": 5
    }
   ]
  },
  {
   "cell_type": "markdown",
   "source": [
    "We obtained the result we wanted!\n",
    "\n",
    "But if we want to make calculations, for example what would the quantities be if we want to double the recipe, we need to cast an integer type to our quantity."
   ],
   "metadata": {
    "id": "QA-9kIz62IBf"
   }
  },
  {
   "cell_type": "code",
   "source": [
    "kartoffeln_qt = int(kartoffeln_qt)\n",
    "type(kartoffeln_qt)\n",
    "# int"
   ],
   "metadata": {
    "id": "INg-TFF11lYV"
   },
   "execution_count": null,
   "outputs": []
  },
  {
   "cell_type": "markdown",
   "source": [
    "## Indexing\n",
    "\n",
    "Indexes are used to identify an element by its position. Indexes in Python start at 0, this means that the first element will have the index 0.\n",
    "\n",
    "In a list of 10 elements, the last element will have, therefore, the index 9."
   ],
   "metadata": {
    "id": "DQ-kSbTg5MAg"
   }
  },
  {
   "cell_type": "markdown",
   "source": [
    "## Slicing\n",
    "\n",
    "Slicing in Python is a method that accesses parts of sequences.\n",
    "\n",
    "Slicing can be applied to strings (a sequence of characters), lists and tuples.\n",
    "\n",
    "See more: [Slicing Strings](https://www.w3schools.com/python/python_strings_slicing.asp), [Understanding Slicing](https://stackoverflow.com/questions/509211/understanding-slicing)\n"
   ],
   "metadata": {
    "id": "m2xsrOKuLK51"
   }
  },
  {
   "cell_type": "markdown",
   "source": [
    "Slicing Strings"
   ],
   "metadata": {
    "id": "NgNIjndV4CMD"
   }
  },
  {
   "cell_type": "code",
   "source": [
    "world = \"Hello, World!\"1\n",
    "\n",
    "# Slicing [start:stop]\n",
    "world[7:12]"
   ],
   "metadata": {
    "colab": {
     "base_uri": "https://localhost:8080/",
     "height": 36
    },
    "id": "AxIifXuy4YRQ",
    "outputId": "219fba40-2730-4829-a70f-2be24bc30016"
   },
   "execution_count": null,
   "outputs": [
    {
     "output_type": "execute_result",
     "data": {
      "text/plain": [
       "'World'"
      ],
      "application/vnd.google.colaboratory.intrinsic+json": {
       "type": "string"
      }
     },
     "metadata": {},
     "execution_count": 11
    }
   ]
  },
  {
   "cell_type": "code",
   "source": [
    "\n",
    "# Slicing from the beginning of the string [:stop]\n",
    "world[:5]"
   ],
   "metadata": {
    "colab": {
     "base_uri": "https://localhost:8080/",
     "height": 36
    },
    "id": "wvl40mWQ4DRf",
    "outputId": "2f54b435-2594-4aec-ee16-974aeb37d228"
   },
   "execution_count": null,
   "outputs": [
    {
     "output_type": "execute_result",
     "data": {
      "text/plain": [
       "'Hello'"
      ],
      "application/vnd.google.colaboratory.intrinsic+json": {
       "type": "string"
      }
     },
     "metadata": {},
     "execution_count": 6
    }
   ]
  },
  {
   "cell_type": "code",
   "source": [
    "# Slicing to the end of the string [start:]\n",
    "world[7:]"
   ],
   "metadata": {
    "colab": {
     "base_uri": "https://localhost:8080/",
     "height": 36
    },
    "id": "AWBgZRrH4RLd",
    "outputId": "b5269204-7017-4617-bb01-34cbe8f7c2f4"
   },
   "execution_count": null,
   "outputs": [
    {
     "output_type": "execute_result",
     "data": {
      "text/plain": [
       "'World!'"
      ],
      "application/vnd.google.colaboratory.intrinsic+json": {
       "type": "string"
      }
     },
     "metadata": {},
     "execution_count": 7
    }
   ]
  },
  {
   "cell_type": "code",
   "source": [
    "# Negative slicing [start:-number of characters to remove]\n",
    "world[:-5]"
   ],
   "metadata": {
    "colab": {
     "base_uri": "https://localhost:8080/",
     "height": 36
    },
    "id": "eazuRlcp4kf_",
    "outputId": "fe7686ab-04ba-4015-88c3-b6ac9c30db27"
   },
   "execution_count": null,
   "outputs": [
    {
     "output_type": "execute_result",
     "data": {
      "text/plain": [
       "'Hello, W'"
      ],
      "application/vnd.google.colaboratory.intrinsic+json": {
       "type": "string"
      }
     },
     "metadata": {},
     "execution_count": 13
    }
   ]
  },
  {
   "cell_type": "markdown",
   "source": [
    "Slicing lists"
   ],
   "metadata": {
    "id": "E2BbqH5U4vbZ"
   }
  },
  {
   "cell_type": "code",
   "source": [
    "my_list = [0,1,2,3,4,5,6,7,8,9]\n",
    "\n",
    "my_list[5:]"
   ],
   "metadata": {
    "colab": {
     "base_uri": "https://localhost:8080/"
    },
    "id": "WtFrhX_L4wtR",
    "outputId": "70821690-acab-4077-9ed4-24be13bc9164"
   },
   "execution_count": null,
   "outputs": [
    {
     "output_type": "execute_result",
     "data": {
      "text/plain": [
       "[5, 6, 7, 8, 9]"
      ]
     },
     "metadata": {},
     "execution_count": 15
    }
   ]
  },
  {
   "cell_type": "code",
   "source": [
    "my_list[5:7]"
   ],
   "metadata": {
    "colab": {
     "base_uri": "https://localhost:8080/"
    },
    "id": "DEWJtjp-4wxk",
    "outputId": "3c049048-8e0b-4ac4-b68e-03deafbfe6b1"
   },
   "execution_count": null,
   "outputs": [
    {
     "output_type": "execute_result",
     "data": {
      "text/plain": [
       "[5, 6]"
      ]
     },
     "metadata": {},
     "execution_count": 16
    }
   ]
  },
  {
   "cell_type": "code",
   "source": [
    "my_list[:-5]"
   ],
   "metadata": {
    "colab": {
     "base_uri": "https://localhost:8080/"
    },
    "id": "2peoqrPn4_Fc",
    "outputId": "08e6f9ec-912c-4cec-e902-02c9713bb2f2"
   },
   "execution_count": null,
   "outputs": [
    {
     "output_type": "execute_result",
     "data": {
      "text/plain": [
       "[0, 1, 2, 3, 4]"
      ]
     },
     "metadata": {},
     "execution_count": 17
    }
   ]
  },
  {
   "cell_type": "markdown",
   "source": [
    "## Inputs from the user\n",
    "\n",
    "You can also ask the user to give information to your program, for that we use input(). See how it works below:"
   ],
   "metadata": {
    "id": "7LG9W86FLOOv"
   }
  },
  {
   "cell_type": "code",
   "execution_count": null,
   "outputs": [
    {
     "name": "stdout",
     "output_type": "stream",
     "text": [
      "What's your name?Fernanda\n"
     ]
    }
   ],
   "source": [
    "name = input(\"What's your name?\")"
   ],
   "metadata": {
    "pycharm": {
     "name": "#%%\n"
    },
    "id": "8XpmWjr2mqOz",
    "colab": {
     "base_uri": "https://localhost:8080/"
    },
    "outputId": "f9938a84-4a6e-420e-8163-ee8036a91d22"
   }
  },
  {
   "cell_type": "code",
   "execution_count": null,
   "outputs": [
    {
     "output_type": "stream",
     "name": "stdout",
     "text": [
      "Hi, Fernanda! Nice to meet you!\n"
     ]
    }
   ],
   "source": [
    "print(f\"Hi, {name}! Nice to meet you!\")\n",
    "#print(f\"Hi, {name.upper()}! Nice to meet you!\")"
   ],
   "metadata": {
    "pycharm": {
     "name": "#%%\n"
    },
    "id": "xbsSOWwumqO0",
    "outputId": "dc2fa182-da17-4a23-86c5-4e875cc08998",
    "colab": {
     "base_uri": "https://localhost:8080/"
    }
   }
  },
  {
   "cell_type": "markdown",
   "source": [
    "## Loops\n",
    "\n",
    "A **for loop** is used to iterate over items in a sequence.\n",
    "It is written in Python according to the following syntax:\n",
    "\n",
    "\n",
    "\n",
    "```\n",
    "for unit in sequence:\n",
    "  action\n",
    "```\n",
    "\n",
    "Note that in the second line of the code above the **action** is not written at the beginning of the line. **action** is indented. Indentations are spaces/tabulations used to indicate a **block of code**.\n",
    "In practice, this means that all the indented code written after the statement `for unit in sequence:` belongs to the loop.\n",
    "\n",
    "Let's see in practice how that works:\n",
    "\n",
    "\n",
    "See more: [For loops](https://www.w3schools.com/python/python_for_loops.asp)"
   ],
   "metadata": {
    "collapsed": false,
    "id": "Lx0wF4L5mqO1"
   }
  },
  {
   "cell_type": "markdown",
   "source": [
    "In the following code we have two for loops. This is what they do:\n",
    "\n",
    "1) the first loop prints every element in the list\n",
    "\n",
    "2) the second loop prints every character in the string (which is the element of the loop)\n",
    "\n"
   ],
   "metadata": {
    "id": "kPjWHnBk-Nor"
   }
  },
  {
   "cell_type": "code",
   "source": [
    "my_list = ['one','two','three','four','five']\n",
    "for x in my_list:\n",
    "  print(x) # one indentation, belongs to the 1st loop\n",
    "  for y in x: # one indentation, belongs to the 1st loop\n",
    "    print(y) # two indentations, belongs to the 2nd loop\n",
    "print(my_list) # does not belong to any loop"
   ],
   "metadata": {
    "id": "iZFx9fdc9cNy"
   },
   "execution_count": null,
   "outputs": []
  },
  {
   "cell_type": "markdown",
   "source": [
    "## Conditional statements\n",
    "\n",
    "You can use 'if-statements' to tell your program to act according to the conditions you define. The syntax of the contidional statements is the following:\n",
    "\n",
    "\n",
    "```\n",
    "if condition1:\n",
    "  action1\n",
    "elif condition2:  # (optional)\n",
    "  action2 \n",
    "else: #if no conditions are met (optional)\n",
    "  action3 \n",
    "```\n",
    "\n",
    "The conditions can follow logical conditions:\n",
    "\n",
    "- equals ==\n",
    "- not equals !=\n",
    "- less than <\n",
    "- less than or equal to <=\n",
    "- greater than >\n",
    "- greater than or equal to >=\n",
    "\n",
    "See more: [Conditional Statements](https://www.w3schools.com/python/python_conditions.asp)"
   ],
   "metadata": {
    "collapsed": false,
    "id": "Ruc8AM6OmqO2"
   }
  },
  {
   "cell_type": "code",
   "source": [
    "if 5>10: \n",
    "  print('True')\n",
    "else:\n",
    "  print('False')\n",
    "\n",
    "# try changing the values in the statement to see different results"
   ],
   "metadata": {
    "colab": {
     "base_uri": "https://localhost:8080/"
    },
    "id": "smt2FlUXCkaq",
    "outputId": "cbe08a5a-20b4-4fbb-ac12-f891c13ebe2a"
   },
   "execution_count": null,
   "outputs": [
    {
     "output_type": "stream",
     "name": "stdout",
     "text": [
      "False\n"
     ]
    }
   ]
  },
  {
   "cell_type": "code",
   "source": [
    "fruits = ['orange','banana','cherry','papaya']\n",
    "\n",
    "for fruit in fruits:\n",
    "  if fruit == 'papaya':\n",
    "    print('I dont like papaya')\n",
    "  else:\n",
    "    print(f'Hmm, I like {fruit}')"
   ],
   "metadata": {
    "colab": {
     "base_uri": "https://localhost:8080/"
    },
    "id": "OcIvjaMVCwzb",
    "outputId": "f45ea510-83c1-4c3d-ab95-f7646cce48c0"
   },
   "execution_count": null,
   "outputs": [
    {
     "output_type": "stream",
     "name": "stdout",
     "text": [
      "Hmm, I like orange\n",
      "Hmm, I like banana\n",
      "Hmm, I like cherry\n",
      "I dont like papaya\n"
     ]
    }
   ]
  },
  {
   "cell_type": "markdown",
   "source": [
    "We can also use if-statements to check whether something is present in a sequence and then perform an action:"
   ],
   "metadata": {
    "id": "27QVbdFJDEZo"
   }
  },
  {
   "cell_type": "code",
   "execution_count": null,
   "outputs": [
    {
     "output_type": "stream",
     "name": "stdout",
     "text": [
      "This\n",
      "is\n",
      "a\n",
      "list\n",
      "of\n",
      "strings\n",
      ".\n"
     ]
    }
   ],
   "source": [
    "words = ['This','is','a','list','of','strings','.']\n",
    "if 'list' in words:\n",
    "    for word in words:\n",
    "        print(word)"
   ],
   "metadata": {
    "pycharm": {
     "name": "#%%\n"
    },
    "id": "ERn6dKoEmqO2",
    "outputId": "3abb08ad-2604-49b0-9147-f00b6e8e0c06",
    "colab": {
     "base_uri": "https://localhost:8080/"
    }
   }
  },
  {
   "cell_type": "markdown",
   "source": [
    "In the example above, the elements of the list 'words' are only printed if the string \"list\" is present."
   ],
   "metadata": {
    "collapsed": false,
    "id": "b70kj8hcmqO2"
   }
  },
  {
   "cell_type": "code",
   "execution_count": null,
   "outputs": [
    {
     "output_type": "stream",
     "name": "stdout",
     "text": [
      "That's Lord of the Rings!\n"
     ]
    }
   ],
   "source": [
    "if 'Hobbit' in sentence: # the variable sentence was define in the section \"3) string\"\n",
    "    print(\"That's Lord of the Rings!\")"
   ],
   "metadata": {
    "pycharm": {
     "name": "#%%\n"
    },
    "id": "DkDI0Nz6mqO2",
    "outputId": "c434dc0e-1d0e-4a4c-9e3d-96310a4bf139",
    "colab": {
     "base_uri": "https://localhost:8080/"
    }
   }
  },
  {
   "cell_type": "markdown",
   "source": [
    "In the second example we have, the method print() is only executed if the word 'Hobbit' is present in the variable sentence."
   ],
   "metadata": {
    "collapsed": false,
    "id": "wd6Hh3gImqO3"
   }
  },
  {
   "cell_type": "markdown",
   "source": [
    "## Functions\n",
    "\n",
    "A function is a sequence of actions which are performed whenever it is called. We use functions to avoid repeating code. If there is a sequence of actions you have to perform several times, it is better to create a function and call upon it whenever this series of actions needs to be performed.\n",
    "\n",
    "The syntax is the following:\n",
    "\n",
    "\n",
    "\n",
    "```\n",
    "def functionname(argument1, argument2,...):\n",
    "  action\n",
    "  action\n",
    "  return variable # (optional)\n",
    "```\n",
    "\n",
    "\n",
    "\n",
    "See more: [Functions](https://www.w3schools.com/python/python_functions.asp)"
   ],
   "metadata": {
    "collapsed": false,
    "id": "GVhH4KmYmqO3"
   }
  },
  {
   "cell_type": "code",
   "source": [
    "def mycalculator(a,b):\n",
    "  return a+b"
   ],
   "metadata": {
    "id": "pps9nYptQYLF"
   },
   "execution_count": null,
   "outputs": []
  },
  {
   "cell_type": "code",
   "source": [
    "mynumber = mycalculator(1,2)"
   ],
   "metadata": {
    "id": "J2N3hbuIQcYA"
   },
   "execution_count": null,
   "outputs": []
  },
  {
   "cell_type": "code",
   "source": [
    "print(mynumber)"
   ],
   "metadata": {
    "colab": {
     "base_uri": "https://localhost:8080/"
    },
    "id": "NzDGTSiVQk4S",
    "outputId": "72814a00-72eb-4821-9b74-e42a216ac38c"
   },
   "execution_count": null,
   "outputs": [
    {
     "output_type": "stream",
     "name": "stdout",
     "text": [
      "3\n"
     ]
    }
   ]
  },
  {
   "cell_type": "code",
   "execution_count": null,
   "outputs": [],
   "source": [
    "def count_letters(name):\n",
    "  # this function counts the letters of any name\n",
    "    count = len(name)\n",
    "    return count"
   ],
   "metadata": {
    "pycharm": {
     "name": "#%%\n"
    },
    "id": "Jbi-ehL_mqO4"
   }
  },
  {
   "cell_type": "code",
   "execution_count": null,
   "outputs": [
    {
     "output_type": "execute_result",
     "data": {
      "text/plain": [
       "8"
      ]
     },
     "metadata": {},
     "execution_count": 31
    }
   ],
   "source": [
    "count_letters('Fernanda')"
   ],
   "metadata": {
    "pycharm": {
     "name": "#%%\n"
    },
    "id": "eZLKsUvvmqO4",
    "outputId": "7c697187-efcf-48f3-9c80-781314baa932",
    "colab": {
     "base_uri": "https://localhost:8080/"
    }
   }
  },
  {
   "cell_type": "code",
   "source": [
    "# now try using the function count_letters() to count the letters of your name\n",
    "count_letters()\n"
   ],
   "metadata": {
    "id": "9ThcTaPLEy_I"
   },
   "execution_count": null,
   "outputs": []
  },
  {
   "cell_type": "markdown",
   "source": [
    "If I add my full name, this function will also count the spaces. Let's fix that."
   ],
   "metadata": {
    "id": "hEZAdZxZE8rO"
   }
  },
  {
   "cell_type": "code",
   "source": [
    "def lettersofname(name):\n",
    "  if ' ' in name:\n",
    "    name = name.replace(' ','') # this action is only performed if there are spaces\n",
    "  count = len(name) # this is not part of the if statement\n",
    "  return count\n"
   ],
   "metadata": {
    "id": "rwTsTAjSFBiM"
   },
   "execution_count": null,
   "outputs": []
  },
  {
   "cell_type": "code",
   "source": [
    "# Testing it\n",
    "lettersofname('Fernanda Alvares Freire') # the result should be 21"
   ],
   "metadata": {
    "colab": {
     "base_uri": "https://localhost:8080/"
    },
    "id": "hou8sOm1FUZo",
    "outputId": "3f4fdbc4-52dc-4877-97af-60ac85e69a57"
   },
   "execution_count": null,
   "outputs": [
    {
     "output_type": "execute_result",
     "data": {
      "text/plain": [
       "21"
      ]
     },
     "metadata": {},
     "execution_count": 34
    }
   ]
  },
  {
   "cell_type": "markdown",
   "source": [
    "Remember the Alice story? We can create a function to fix it as well."
   ],
   "metadata": {
    "id": "foZeWO8LGFWB"
   }
  },
  {
   "cell_type": "code",
   "source": [
    "story = \"\"\"Alice was beginning to get very tired of sitting by her sitser on the bank, \n",
    "and of having nothing to do: once or twice she had peeped into the bok her sister was reading, \n",
    "but it had no pictures or conversations in it, 'and what is the use of a bok,' thought Alce \n",
    "'without pictures or conversations?'\"\"\""
   ],
   "metadata": {
    "id": "X-69Sx2ZGKab"
   },
   "execution_count": null,
   "outputs": []
  },
  {
   "cell_type": "code",
   "source": [
    "misspellings = {'sitser':'sister','bok':'book','Alce':'Alice'}\n",
    "\n",
    "def correctstory(story,dictionary):\n",
    "  for key, value in dictionary.items():\n",
    "    story = story.replace(key, value)\n",
    "  print(story)"
   ],
   "metadata": {
    "id": "c-GzxPWSGWlf"
   },
   "execution_count": null,
   "outputs": []
  },
  {
   "cell_type": "code",
   "source": [
    "correctstory(story,misspellings)"
   ],
   "metadata": {
    "colab": {
     "base_uri": "https://localhost:8080/"
    },
    "id": "tCDEXP-BHByL",
    "outputId": "ccc4eea4-5753-4306-cda4-4af828116da7"
   },
   "execution_count": null,
   "outputs": [
    {
     "output_type": "stream",
     "name": "stdout",
     "text": [
      "Alice was beginning to get very tired of sitting by her sister on the bank, \n",
      "and of having nothing to do: once or twice she had peeped into the book her sister was reading, \n",
      "but it had no pictures or conversations in it, 'and what is the use of a book,' thought Alice \n",
      "'without pictures or conversations?'\n"
     ]
    }
   ]
  },
  {
   "cell_type": "markdown",
   "source": [
    "#### Debugging"
   ],
   "metadata": {
    "collapsed": false,
    "id": "gHfBnWtmmqO4"
   }
  },
  {
   "cell_type": "code",
   "execution_count": null,
   "outputs": [
    {
     "ename": "NameError",
     "evalue": "name 'nname' is not defined",
     "output_type": "error",
     "traceback": [
      "\u001B[1;31m---------------------------------------------------------------------------\u001B[0m",
      "\u001B[1;31mNameError\u001B[0m                                 Traceback (most recent call last)",
      "\u001B[1;32m<ipython-input-49-5cda8f722f21>\u001B[0m in \u001B[0;36m<module>\u001B[1;34m\u001B[0m\n\u001B[0;32m      1\u001B[0m \u001B[1;31m# Debugging\u001B[0m\u001B[1;33m\u001B[0m\u001B[1;33m\u001B[0m\u001B[1;33m\u001B[0m\u001B[0m\n\u001B[0;32m      2\u001B[0m \u001B[1;33m\u001B[0m\u001B[0m\n\u001B[1;32m----> 3\u001B[1;33m \u001B[0mprint\u001B[0m\u001B[1;33m(\u001B[0m\u001B[0mnname\u001B[0m\u001B[1;33m)\u001B[0m\u001B[1;33m\u001B[0m\u001B[1;33m\u001B[0m\u001B[0m\n\u001B[0m",
      "\u001B[1;31mNameError\u001B[0m: name 'nname' is not defined"
     ]
    }
   ],
   "source": [
    "# Debugging\n",
    "\n",
    "\"\"\" When you come across an error, read the error message to figure out what\n",
    "went wrong. Notice that the error message points exactly at the line where the\n",
    "error occurred.\"\"\"\n",
    "\n",
    "print(nname)"
   ],
   "metadata": {
    "pycharm": {
     "name": "#%%\n"
    },
    "id": "rDHRXFxEmqO4",
    "outputId": "c20b9ad4-f224-4f4f-e91f-80e1e9c8bb9a"
   }
  }
 ],
 "metadata": {
  "kernelspec": {
   "display_name": "Python 3",
   "language": "python",
   "name": "python3"
  },
  "language_info": {
   "codemirror_mode": {
    "name": "ipython",
    "version": 2
   },
   "file_extension": ".py",
   "mimetype": "text/x-python",
   "name": "python",
   "nbconvert_exporter": "python",
   "pygments_lexer": "ipython2",
   "version": "2.7.6"
  },
  "colab": {
   "provenance": [],
   "collapsed_sections": [
    "gA3VjCnpmqOp",
    "g91TruVqmqOs",
    "BANPG5W4w51v",
    "a31tB8Teldad",
    "Bvvp_aXZltrs",
    "QmUa8Z1iLEqe",
    "m2xsrOKuLK51",
    "7LG9W86FLOOv",
    "Lx0wF4L5mqO1",
    "Ruc8AM6OmqO2"
   ],
   "toc_visible": true
  }
 },
 "nbformat": 4,
 "nbformat_minor": 0
}